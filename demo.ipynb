{
 "cells": [
  {
   "cell_type": "code",
   "execution_count": 24,
   "id": "15d63041",
   "metadata": {},
   "outputs": [
    {
     "data": {
      "text/plain": [
       "True     5158\n",
       "False    4842\n",
       "Name: is_male, dtype: int64"
      ]
     },
     "execution_count": 24,
     "metadata": {},
     "output_type": "execute_result"
    }
   ],
   "source": [
    "import pandas as pd\n",
    "import tensorflow as tf\n",
    "from tensorflow.keras import Sequential\n",
    "from tensorflow.keras.layers import Dense\n",
    "\n",
    "import numpy as np\n",
    "import json\n",
    "\n",
    "from sklearn.model_selection import train_test_split\n",
    "from sklearn.utils import shuffle\n",
    "from google.cloud import bigquery\n",
    "from witwidget.notebook.visualization import WitWidget, WitConfigBuilder\n",
    "\n",
    "query=\"\"\"\n",
    "SELECT\n",
    "  weight_pounds,\n",
    "  is_male,\n",
    "  mother_age,\n",
    "  plurality,\n",
    "  gestation_weeks\n",
    "FROM\n",
    "  publicdata.samples.natality\n",
    "WHERE year > 2000\n",
    "LIMIT 10000\n",
    "\"\"\"\n",
    "df = bigquery.Client().query(query).to_dataframe()\n",
    "df.head()\n",
    "\n",
    "# This shows the mean, standard deviation, minimum, and other metrics for our numeric columns.\n",
    "df.describe()\n",
    "\n",
    "# Get some data on our boolean column indicating the baby's gender.\n",
    "df['is_male'].value_counts()"
   ]
  },
  {
   "cell_type": "code",
   "execution_count": 25,
   "id": "546e6dc9",
   "metadata": {},
   "outputs": [
    {
     "data": {
      "text/html": [
       "<div>\n",
       "<style scoped>\n",
       "    .dataframe tbody tr th:only-of-type {\n",
       "        vertical-align: middle;\n",
       "    }\n",
       "\n",
       "    .dataframe tbody tr th {\n",
       "        vertical-align: top;\n",
       "    }\n",
       "\n",
       "    .dataframe thead th {\n",
       "        text-align: right;\n",
       "    }\n",
       "</style>\n",
       "<table border=\"1\" class=\"dataframe\">\n",
       "  <thead>\n",
       "    <tr style=\"text-align: right;\">\n",
       "      <th></th>\n",
       "      <th>weight_pounds</th>\n",
       "      <th>is_male</th>\n",
       "      <th>mother_age</th>\n",
       "      <th>plurality</th>\n",
       "      <th>gestation_weeks</th>\n",
       "    </tr>\n",
       "  </thead>\n",
       "  <tbody>\n",
       "    <tr>\n",
       "      <th>757</th>\n",
       "      <td>7.374463</td>\n",
       "      <td>True</td>\n",
       "      <td>23</td>\n",
       "      <td>1</td>\n",
       "      <td>39.0</td>\n",
       "    </tr>\n",
       "    <tr>\n",
       "      <th>6544</th>\n",
       "      <td>8.375361</td>\n",
       "      <td>True</td>\n",
       "      <td>19</td>\n",
       "      <td>1</td>\n",
       "      <td>38.0</td>\n",
       "    </tr>\n",
       "    <tr>\n",
       "      <th>3190</th>\n",
       "      <td>6.239082</td>\n",
       "      <td>True</td>\n",
       "      <td>28</td>\n",
       "      <td>1</td>\n",
       "      <td>40.0</td>\n",
       "    </tr>\n",
       "    <tr>\n",
       "      <th>2064</th>\n",
       "      <td>8.437091</td>\n",
       "      <td>False</td>\n",
       "      <td>32</td>\n",
       "      <td>1</td>\n",
       "      <td>40.0</td>\n",
       "    </tr>\n",
       "    <tr>\n",
       "      <th>4066</th>\n",
       "      <td>7.374463</td>\n",
       "      <td>False</td>\n",
       "      <td>17</td>\n",
       "      <td>1</td>\n",
       "      <td>40.0</td>\n",
       "    </tr>\n",
       "  </tbody>\n",
       "</table>\n",
       "</div>"
      ],
      "text/plain": [
       "      weight_pounds  is_male  mother_age  plurality  gestation_weeks\n",
       "757        7.374463     True          23          1             39.0\n",
       "6544       8.375361     True          19          1             38.0\n",
       "3190       6.239082     True          28          1             40.0\n",
       "2064       8.437091    False          32          1             40.0\n",
       "4066       7.374463    False          17          1             40.0"
      ]
     },
     "execution_count": 25,
     "metadata": {},
     "output_type": "execute_result"
    }
   ],
   "source": [
    "# Drop rows with null values from the dataset and shuffle the data.\n",
    "df = df.dropna()\n",
    "df = shuffle(df, random_state=2)\n",
    "\n",
    "# Extract the label column into a separate variable and create a DataFrame with only our features.\n",
    "# Since is_male is a boolean, we'll convert it to an integer so that all inputs to our model are numeric.\n",
    "labels = df['weight_pounds']\n",
    "data = df.drop(columns=['weight_pounds'])\n",
    "data['is_male'] = data['is_male'].astype(int)\n",
    "df.head()"
   ]
  },
  {
   "cell_type": "code",
   "execution_count": 26,
   "id": "2c5c127f",
   "metadata": {},
   "outputs": [
    {
     "name": "stdout",
     "output_type": "stream",
     "text": [
      "Model: \"sequential_3\"\n",
      "_________________________________________________________________\n",
      "Layer (type)                 Output Shape              Param #   \n",
      "=================================================================\n",
      "dense_9 (Dense)              (None, 64)                320       \n",
      "_________________________________________________________________\n",
      "dense_10 (Dense)             (None, 32)                2080      \n",
      "_________________________________________________________________\n",
      "dense_11 (Dense)             (None, 1)                 33        \n",
      "=================================================================\n",
      "Total params: 2,433\n",
      "Trainable params: 2,433\n",
      "Non-trainable params: 0\n",
      "_________________________________________________________________\n"
     ]
    }
   ],
   "source": [
    "# Split your data into train and test sets.\n",
    "x,y = data,labels\n",
    "x_train,x_test,y_train,y_test = train_test_split(x,y)\n",
    "\n",
    "# We'll be building this model using the tf.keras Sequential model API,\n",
    "# which lets us define our model as a stack of layers.\n",
    "model = Sequential([\n",
    "    Dense(64, activation='relu', input_shape=(len(x_train.iloc[0]),)),\n",
    "    Dense(32, activation='relu'),\n",
    "    Dense(1)]\n",
    ")\n",
    "\n",
    "# Then we'll compile our model so we can train it.\n",
    "# Here we'll choose the model's optimizer, loss function,\n",
    "# and metrics we'd like the model to log during training.\n",
    "# Since this is a regression model (predicting a numerical value),\n",
    "# we're using mean squared error instead of accuracy as our metric.\n",
    "model.compile(optimizer=tf.keras.optimizers.RMSprop(),\n",
    "              loss=tf.keras.losses.MeanSquaredError(),\n",
    "              metrics=['mae', 'mse'])\n",
    "\n",
    "# See the shape and number of trainable parameters of your model at each layer.\n",
    "model.summary()"
   ]
  },
  {
   "cell_type": "code",
   "execution_count": 27,
   "id": "97dc134e",
   "metadata": {},
   "outputs": [
    {
     "name": "stdout",
     "output_type": "stream",
     "text": [
      "Train on 6665 samples, validate on 741 samples\n",
      "Epoch 1/10\n",
      "6665/6665 [==============================] - 1s 196us/sample - loss: 1.9115 - mean_absolute_error: 1.0638 - mean_squared_error: 1.9115 - val_loss: 1.3103 - val_mean_absolute_error: 0.8950 - val_mean_squared_error: 1.3103\n",
      "Epoch 2/10\n",
      "6665/6665 [==============================] - 1s 120us/sample - loss: 1.5577 - mean_absolute_error: 0.9829 - mean_squared_error: 1.5577 - val_loss: 1.2815 - val_mean_absolute_error: 0.8851 - val_mean_squared_error: 1.2815\n",
      "Epoch 3/10\n",
      "6665/6665 [==============================] - 1s 96us/sample - loss: 1.4951 - mean_absolute_error: 0.9638 - mean_squared_error: 1.4951 - val_loss: 2.2406 - val_mean_absolute_error: 1.2234 - val_mean_squared_error: 2.2406\n",
      "Epoch 4/10\n",
      "6665/6665 [==============================] - 1s 123us/sample - loss: 1.4665 - mean_absolute_error: 0.9543 - mean_squared_error: 1.4665 - val_loss: 1.2314 - val_mean_absolute_error: 0.8748 - val_mean_squared_error: 1.2314\n",
      "Epoch 5/10\n",
      "6665/6665 [==============================] - 1s 121us/sample - loss: 1.4391 - mean_absolute_error: 0.9427 - mean_squared_error: 1.4391 - val_loss: 1.3513 - val_mean_absolute_error: 0.9112 - val_mean_squared_error: 1.3513\n",
      "Epoch 6/10\n",
      "6665/6665 [==============================] - 1s 114us/sample - loss: 1.3857 - mean_absolute_error: 0.9221 - mean_squared_error: 1.3857 - val_loss: 1.4054 - val_mean_absolute_error: 0.9466 - val_mean_squared_error: 1.4054\n",
      "Epoch 7/10\n",
      "6665/6665 [==============================] - 1s 114us/sample - loss: 1.3569 - mean_absolute_error: 0.9106 - mean_squared_error: 1.3569 - val_loss: 1.4914 - val_mean_absolute_error: 0.9634 - val_mean_squared_error: 1.4914\n",
      "Epoch 8/10\n",
      "6665/6665 [==============================] - 1s 122us/sample - loss: 1.3571 - mean_absolute_error: 0.9123 - mean_squared_error: 1.3571 - val_loss: 1.2799 - val_mean_absolute_error: 0.9074 - val_mean_squared_error: 1.2799\n",
      "Epoch 9/10\n",
      "6665/6665 [==============================] - 1s 132us/sample - loss: 1.3258 - mean_absolute_error: 0.8979 - mean_squared_error: 1.3258 - val_loss: 1.9401 - val_mean_absolute_error: 1.1331 - val_mean_squared_error: 1.9401\n",
      "Epoch 10/10\n",
      "6665/6665 [==============================] - 1s 102us/sample - loss: 1.3185 - mean_absolute_error: 0.8986 - mean_squared_error: 1.3185 - val_loss: 1.4027 - val_mean_absolute_error: 0.9285 - val_mean_squared_error: 1.4027\n"
     ]
    }
   ],
   "source": [
    "# Use the optional validation_split parameter,\n",
    "# which will hold a portion of our training data\n",
    "# to validate the model at each step.\n",
    "model.fit(x_train, y_train, epochs=10, validation_split=0.1)\n",
    "\n",
    "# See how the model is performing.\n",
    "num_examples = 10\n",
    "predictions = model.predict(x_test[:num_examples])"
   ]
  },
  {
   "cell_type": "code",
   "execution_count": 28,
   "id": "75417ccf",
   "metadata": {},
   "outputs": [
    {
     "name": "stdout",
     "output_type": "stream",
     "text": [
      "Predicted val:  7.1887546\n",
      "Actual val:  7.50012615324\n",
      "\n",
      "Predicted val:  7.6715326\n",
      "Actual val:  7.3744626639\n",
      "\n",
      "Predicted val:  7.501384\n",
      "Actual val:  8.12623897732\n",
      "\n",
      "Predicted val:  6.2491465\n",
      "Actual val:  6.98424446016\n",
      "\n",
      "Predicted val:  6.997168\n",
      "Actual val:  6.1883756943399995\n",
      "\n",
      "Predicted val:  6.9370313\n",
      "Actual val:  6.3735639944199995\n",
      "\n",
      "Predicted val:  6.0059104\n",
      "Actual val:  8.50102482272\n",
      "\n",
      "Predicted val:  6.141087\n",
      "Actual val:  5.93704871566\n",
      "\n",
      "Predicted val:  6.3343625\n",
      "Actual val:  6.87621795178\n",
      "\n",
      "Predicted val:  6.6541934\n",
      "Actual val:  8.437090766739999\n",
      "\n"
     ]
    }
   ],
   "source": [
    "# Iterate over our model's predictions, comparing them to the actual value.\n",
    "for i in range(num_examples):\n",
    "    print('Predicted val: ', predictions[i][0])\n",
    "    print('Actual val: ',y_test.iloc[i])\n",
    "    print()"
   ]
  },
  {
   "cell_type": "code",
   "execution_count": 29,
   "id": "643093e3",
   "metadata": {},
   "outputs": [
    {
     "data": {
      "text/html": [
       "<style>.container { width:100% !important; }</style>"
      ],
      "text/plain": [
       "<IPython.core.display.HTML object>"
      ]
     },
     "metadata": {},
     "output_type": "display_data"
    },
    {
     "data": {
      "application/vnd.jupyter.widget-view+json": {
       "model_id": "39059034db9e40a4bdc54e8b257102a5",
       "version_major": 2,
       "version_minor": 0
      },
      "text/plain": [
       "WitWidget(config={'model_type': 'regression', 'label_vocab': [], 'feature_names': ['is_male', 'mother_age', 'p…"
      ]
     },
     "metadata": {},
     "output_type": "display_data"
    }
   ],
   "source": [
    "# To make the most of the What-If Tool, we'll send it examples from our test\n",
    "# set along with the ground truth labels for those examples (y_test).\n",
    "# Create a new DataFrame with our test examples and their labels.\n",
    "wit_data = pd.concat([x_test, y_test], axis=1)\n",
    "\n",
    "# Connect the What-If tool to the model that we've just trained.\n",
    "def custom_predict(examples_to_infer):\n",
    "    preds = model.predict(examples_to_infer)\n",
    "    return preds\n",
    "\n",
    "# Instantiate the What-If Tool by passing it 500 examples from\n",
    "# the concatenated test dataset + ground truth labels we just created.\n",
    "config_builder = (WitConfigBuilder(wit_data[:500].values.tolist(), data.columns.tolist() + ['weight_pounds'])\n",
    "  .set_custom_predict_fn(custom_predict)\n",
    "  .set_target_feature('weight_pounds')\n",
    "  .set_model_type('regression'))\n",
    "WitWidget(config_builder, height=800)"
   ]
  },
  {
   "cell_type": "code",
   "execution_count": null,
   "id": "a28976bd",
   "metadata": {},
   "outputs": [],
   "source": []
  }
 ],
 "metadata": {
  "environment": {
   "name": "tf-gpu.1-15.m71",
   "type": "gcloud",
   "uri": "gcr.io/deeplearning-platform-release/tf-gpu.1-15:m71"
  },
  "kernelspec": {
   "display_name": "Python 3",
   "language": "python",
   "name": "python3"
  },
  "language_info": {
   "codemirror_mode": {
    "name": "ipython",
    "version": 3
   },
   "file_extension": ".py",
   "mimetype": "text/x-python",
   "name": "python",
   "nbconvert_exporter": "python",
   "pygments_lexer": "ipython3",
   "version": "3.7.10"
  }
 },
 "nbformat": 4,
 "nbformat_minor": 5
}
