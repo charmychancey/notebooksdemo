{
 "cells": [
  {
   "cell_type": "code",
   "execution_count": 7,
   "id": "5d16c225",
   "metadata": {},
   "outputs": [
    {
     "data": {
      "text/plain": [
       "True     5158\n",
       "False    4842\n",
       "Name: is_male, dtype: int64"
      ]
     },
     "execution_count": 7,
     "metadata": {},
     "output_type": "execute_result"
    }
   ],
   "source": [
    "import pandas as pd\n",
    "import tensorflow as tf\n",
    "from tensorflow.keras import Sequential\n",
    "from tensorflow.keras.layers import Dense\n",
    "\n",
    "import numpy as np\n",
    "import json\n",
    "\n",
    "from sklearn.model_selection import train_test_split\n",
    "from sklearn.utils import shuffle\n",
    "from google.cloud import bigquery\n",
    "from witwidget.notebook.visualization import WitWidget, WitConfigBuilder\n",
    "\n",
    "query=\"\"\"\n",
    "SELECT\n",
    "  weight_pounds,\n",
    "  is_male,\n",
    "  mother_age,\n",
    "  plurality,\n",
    "  gestation_weeks\n",
    "FROM\n",
    "  publicdata.samples.natality\n",
    "WHERE year > 2000\n",
    "LIMIT 10000\n",
    "\"\"\"\n",
    "df = bigquery.Client().query(query).to_dataframe()\n",
    "df.head()\n",
    "\n",
    "# This shows the mean, standard deviation, minimum, and other metrics for our numeric columns.\n",
    "df.describe()\n",
    "\n",
    "# Get some data on our boolean column indicating the baby's gender.\n",
    "df['is_male'].value_counts()"
   ]
  },
  {
   "cell_type": "code",
   "execution_count": 8,
   "id": "1ed8aac7",
   "metadata": {},
   "outputs": [
    {
     "data": {
      "text/html": [
       "<div>\n",
       "<style scoped>\n",
       "    .dataframe tbody tr th:only-of-type {\n",
       "        vertical-align: middle;\n",
       "    }\n",
       "\n",
       "    .dataframe tbody tr th {\n",
       "        vertical-align: top;\n",
       "    }\n",
       "\n",
       "    .dataframe thead th {\n",
       "        text-align: right;\n",
       "    }\n",
       "</style>\n",
       "<table border=\"1\" class=\"dataframe\">\n",
       "  <thead>\n",
       "    <tr style=\"text-align: right;\">\n",
       "      <th></th>\n",
       "      <th>weight_pounds</th>\n",
       "      <th>is_male</th>\n",
       "      <th>mother_age</th>\n",
       "      <th>plurality</th>\n",
       "      <th>gestation_weeks</th>\n",
       "    </tr>\n",
       "  </thead>\n",
       "  <tbody>\n",
       "    <tr>\n",
       "      <th>757</th>\n",
       "      <td>7.374463</td>\n",
       "      <td>True</td>\n",
       "      <td>23</td>\n",
       "      <td>1</td>\n",
       "      <td>39.0</td>\n",
       "    </tr>\n",
       "    <tr>\n",
       "      <th>6544</th>\n",
       "      <td>8.375361</td>\n",
       "      <td>True</td>\n",
       "      <td>19</td>\n",
       "      <td>1</td>\n",
       "      <td>38.0</td>\n",
       "    </tr>\n",
       "    <tr>\n",
       "      <th>3190</th>\n",
       "      <td>6.239082</td>\n",
       "      <td>True</td>\n",
       "      <td>28</td>\n",
       "      <td>1</td>\n",
       "      <td>40.0</td>\n",
       "    </tr>\n",
       "    <tr>\n",
       "      <th>2064</th>\n",
       "      <td>8.437091</td>\n",
       "      <td>False</td>\n",
       "      <td>32</td>\n",
       "      <td>1</td>\n",
       "      <td>40.0</td>\n",
       "    </tr>\n",
       "    <tr>\n",
       "      <th>4066</th>\n",
       "      <td>7.374463</td>\n",
       "      <td>False</td>\n",
       "      <td>17</td>\n",
       "      <td>1</td>\n",
       "      <td>40.0</td>\n",
       "    </tr>\n",
       "  </tbody>\n",
       "</table>\n",
       "</div>"
      ],
      "text/plain": [
       "      weight_pounds  is_male  mother_age  plurality  gestation_weeks\n",
       "757        7.374463     True          23          1             39.0\n",
       "6544       8.375361     True          19          1             38.0\n",
       "3190       6.239082     True          28          1             40.0\n",
       "2064       8.437091    False          32          1             40.0\n",
       "4066       7.374463    False          17          1             40.0"
      ]
     },
     "execution_count": 8,
     "metadata": {},
     "output_type": "execute_result"
    }
   ],
   "source": [
    "# Drop rows with null values from the dataset and shuffle the data.\n",
    "df = df.dropna()\n",
    "df = shuffle(df, random_state=2)\n",
    "\n",
    "# Extract the label column into a separate variable and create a DataFrame with only our features.\n",
    "# Since is_male is a boolean, we'll convert it to an integer so that all inputs to our model are numeric.\n",
    "labels = df['weight_pounds']\n",
    "data = df.drop(columns=['weight_pounds'])\n",
    "data['is_male'] = data['is_male'].astype(int)\n",
    "df.head()"
   ]
  },
  {
   "cell_type": "code",
   "execution_count": 9,
   "id": "174afad8",
   "metadata": {},
   "outputs": [
    {
     "name": "stdout",
     "output_type": "stream",
     "text": [
      "WARNING:tensorflow:From /opt/conda/lib/python3.7/site-packages/tensorflow_core/python/ops/resource_variable_ops.py:1630: calling BaseResourceVariable.__init__ (from tensorflow.python.ops.resource_variable_ops) with constraint is deprecated and will be removed in a future version.\n",
      "Instructions for updating:\n",
      "If using Keras pass *_constraint arguments to layers.\n",
      "Model: \"sequential\"\n",
      "_________________________________________________________________\n",
      "Layer (type)                 Output Shape              Param #   \n",
      "=================================================================\n",
      "dense (Dense)                (None, 64)                320       \n",
      "_________________________________________________________________\n",
      "dense_1 (Dense)              (None, 32)                2080      \n",
      "_________________________________________________________________\n",
      "dense_2 (Dense)              (None, 1)                 33        \n",
      "=================================================================\n",
      "Total params: 2,433\n",
      "Trainable params: 2,433\n",
      "Non-trainable params: 0\n",
      "_________________________________________________________________\n"
     ]
    }
   ],
   "source": [
    "# Split your data into train and test sets.\n",
    "x,y = data,labels\n",
    "x_train,x_test,y_train,y_test = train_test_split(x,y)\n",
    "\n",
    "# We'll be building this model using the tf.keras Sequential model API,\n",
    "# which lets us define our model as a stack of layers.\n",
    "model = Sequential([\n",
    "    Dense(64, activation='relu', input_shape=(len(x_train.iloc[0]),)),\n",
    "    Dense(32, activation='relu'),\n",
    "    Dense(1)]\n",
    ")\n",
    "\n",
    "# Then we'll compile our model so we can train it.\n",
    "# Here we'll choose the model's optimizer, loss function,\n",
    "# and metrics we'd like the model to log during training.\n",
    "# Since this is a regression model (predicting a numerical value),\n",
    "# we're using mean squared error instead of accuracy as our metric.\n",
    "model.compile(optimizer=tf.keras.optimizers.RMSprop(),\n",
    "              loss=tf.keras.losses.MeanSquaredError(),\n",
    "              metrics=['mae', 'mse'])\n",
    "\n",
    "# See the shape and number of trainable parameters of your model at each layer.\n",
    "model.summary()"
   ]
  },
  {
   "cell_type": "code",
   "execution_count": null,
   "id": "51cd8618",
   "metadata": {},
   "outputs": [
    {
     "name": "stdout",
     "output_type": "stream",
     "text": [
      "Train on 6665 samples, validate on 741 samples\n",
      "Epoch 1/10\n",
      "6665/6665 [==============================] - 1s 197us/sample - loss: 2.0354 - mean_absolute_error: 1.0400 - mean_squared_error: 2.0354 - val_loss: 1.1952 - val_mean_absolute_error: 0.8583 - val_mean_squared_error: 1.1952\n",
      "Epoch 2/10\n",
      "6665/6665 [==============================] - 1s 119us/sample - loss: 1.4552 - mean_absolute_error: 0.9490 - mean_squared_error: 1.4552 - val_loss: 1.5479 - val_mean_absolute_error: 0.9907 - val_mean_squared_error: 1.5479\n",
      "Epoch 3/10\n",
      "6665/6665 [==============================] - 1s 111us/sample - loss: 1.3960 - mean_absolute_error: 0.9290 - mean_squared_error: 1.3960 - val_loss: 1.1328 - val_mean_absolute_error: 0.8352 - val_mean_squared_error: 1.1328\n",
      "Epoch 4/10\n",
      "6665/6665 [==============================] - 1s 101us/sample - loss: 1.3683 - mean_absolute_error: 0.9234 - mean_squared_error: 1.3683 - val_loss: 1.8199 - val_mean_absolute_error: 1.0848 - val_mean_squared_error: 1.8199\n",
      "Epoch 5/10\n",
      "6665/6665 [==============================] - 1s 110us/sample - loss: 1.3494 - mean_absolute_error: 0.9188 - mean_squared_error: 1.3494 - val_loss: 1.1075 - val_mean_absolute_error: 0.8232 - val_mean_squared_error: 1.1075\n",
      "Epoch 6/10\n",
      "6665/6665 [==============================] - 1s 105us/sample - loss: 1.3346 - mean_absolute_error: 0.9138 - mean_squared_error: 1.3346 - val_loss: 1.1752 - val_mean_absolute_error: 0.8516 - val_mean_squared_error: 1.1752\n",
      "Epoch 7/10\n",
      "5600/6665 [========================>.....] - ETA: 0s - loss: 1.2989 - mean_absolute_error: 0.9011 - mean_squared_error: 1.2989"
     ]
    }
   ],
   "source": [
    "# Use the optional validation_split parameter,\n",
    "# which will hold a portion of our training data\n",
    "# to validate the model at each step.\n",
    "model.fit(x_train, y_train, epochs=10, validation_split=0.1)\n",
    "\n",
    "# See how the model is performing.\n",
    "num_examples = 10\n",
    "predictions = model.predict(x_test[:num_examples])"
   ]
  },
  {
   "cell_type": "code",
   "execution_count": null,
   "id": "d4e2f32a",
   "metadata": {},
   "outputs": [],
   "source": []
  }
 ],
 "metadata": {
  "environment": {
   "name": "tf-gpu.1-15.m71",
   "type": "gcloud",
   "uri": "gcr.io/deeplearning-platform-release/tf-gpu.1-15:m71"
  },
  "kernelspec": {
   "display_name": "Python 3",
   "language": "python",
   "name": "python3"
  },
  "language_info": {
   "codemirror_mode": {
    "name": "ipython",
    "version": 3
   },
   "file_extension": ".py",
   "mimetype": "text/x-python",
   "name": "python",
   "nbconvert_exporter": "python",
   "pygments_lexer": "ipython3",
   "version": "3.7.10"
  }
 },
 "nbformat": 4,
 "nbformat_minor": 5
}
